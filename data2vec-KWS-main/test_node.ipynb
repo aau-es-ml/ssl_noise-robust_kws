{
 "cells": [
  {
   "cell_type": "code",
   "execution_count": 9,
   "metadata": {},
   "outputs": [],
   "source": [
    "from argparse import ArgumentParser\n",
    "from config_parser import get_config\n",
    "import os\n",
    "import yaml\n",
    "\n",
    "import torch\n",
    "from torch import nn\n",
    "import wandb\n",
    "\n",
    "from utils.loss import LabelSmoothingLoss\n",
    "from utils.opt import get_optimizer\n",
    "from utils.scheduler import WarmUpLR, get_scheduler\n",
    "from utils.trainer import train, evaluate\n",
    "from utils.dataset import get_loader\n",
    "from utils.misc import seed_everything, count_params, get_model, calc_step, log"
   ]
  },
  {
   "cell_type": "code",
   "execution_count": 15,
   "metadata": {},
   "outputs": [
    {
     "data": {
      "text/plain": [
       "'txt'"
      ]
     },
     "execution_count": 15,
     "metadata": {},
     "output_type": "execute_result"
    }
   ],
   "source": [
    "file = \"/home/jacobuni/uni-projects/google_speech_commands_v2/_generated/testing_list.txt\"\n",
    "file2 = \"/home/jacobuni/uni-projects/noisy_google_speech_commands_v2/test2/_generatedtesting_list.txt\"\n",
    "file[-3:]"
   ]
  },
  {
   "cell_type": "code",
   "execution_count": 11,
   "metadata": {},
   "outputs": [],
   "source": [
    "with open(file, \"r\") as f:\n",
    "    test_list = f.read().rstrip().split(\"\\n\")\n"
   ]
  },
  {
   "cell_type": "code",
   "execution_count": 12,
   "metadata": {},
   "outputs": [],
   "source": [
    "config = get_config(\"/home/jacobuni/uni-projects/p9-ssl_for_noise-robust_kws/data2vec-KWS-main/test_tes.yaml\")"
   ]
  },
  {
   "cell_type": "code",
   "execution_count": 14,
   "metadata": {},
   "outputs": [],
   "source": [
    "testloader = get_loader(test_list, config, train=False)\n"
   ]
  },
  {
   "cell_type": "code",
   "execution_count": null,
   "metadata": {},
   "outputs": [],
   "source": []
  }
 ],
 "metadata": {
  "kernelspec": {
   "display_name": "sslkwsenv",
   "language": "python",
   "name": "python3"
  },
  "language_info": {
   "codemirror_mode": {
    "name": "ipython",
    "version": 3
   },
   "file_extension": ".py",
   "mimetype": "text/x-python",
   "name": "python",
   "nbconvert_exporter": "python",
   "pygments_lexer": "ipython3",
   "version": "3.9.17"
  }
 },
 "nbformat": 4,
 "nbformat_minor": 2
}
